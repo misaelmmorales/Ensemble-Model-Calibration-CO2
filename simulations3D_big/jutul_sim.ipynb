{
 "cells": [
  {
   "cell_type": "code",
   "execution_count": 1,
   "metadata": {},
   "outputs": [],
   "source": [
    "using Jutul, JutulDarcy, HYPRE, GLMakie, MAT, Statistics\n",
    "\n",
    "import Jutul: find_enclosing_cell, plot_mesh_edges, replace_variables!\n",
    "import JutulDarcy: table_to_relperm, add_relperm_parameters!, brooks_corey_relperm\n",
    "import JutulDarcy: KilloughHysteresis, ReservoirRelativePermeabilities"
   ]
  },
  {
   "cell_type": "code",
   "execution_count": 2,
   "metadata": {},
   "outputs": [
    {
     "name": "stdout",
     "output_type": "stream",
     "text": [
      "Perm all: (1272, 128, 128, 16)"
     ]
    }
   ],
   "source": [
    "vars = matread(\"E:/Ensemble-Model-Calibration-CO2/simulations3D_big/data_1272_128x128x16.mat\")\n",
    "perm_all = vars[\"perm\"]\n",
    "print(\"Perm all: \", size(perm_all))"
   ]
  },
  {
   "cell_type": "code",
   "execution_count": 15,
   "metadata": {},
   "outputs": [
    {
     "data": {
      "text/plain": [
       "262144"
      ]
     },
     "metadata": {},
     "output_type": "display_data"
    }
   ],
   "source": [
    "g = Jutul.gravity_constant\n",
    "nx, ny, nz = 128, 128, 16\n",
    "dx, dy, dz = 19.5312, 19.5312, 9.3750\n",
    "Darcy, bar, psi, kg, meter, hour, day, year = si_units(:darcy, :bar, :psi, :kilogram, :meter, :hour, :day, :year)\n",
    "\n",
    "cart_dims     = (nx, ny, nz)\n",
    "physical_dims = (nx*dx, ny*dy, nz*dz)\n",
    "mesh          = UnstructuredMesh(CartesianMesh(cart_dims, physical_dims))\n",
    "nc            = number_of_cells(mesh)\n",
    "\n",
    "# points = mesh.node_points\n",
    "# for (i, pt) in enumerate(points)\n",
    "#     y, x, z = pt\n",
    "#     x_u = 0.5 * π * x / 1000.0\n",
    "#     w = 0.2\n",
    "#     dz = 0.05*x + 0.05*abs(x - 2500.0)+ w*(30*cos(2.0*x_u) + 20*sin(5.0*x_u))\n",
    "#     points[i] = pt + [0, 0, dz]\n",
    "# end"
   ]
  },
  {
   "cell_type": "code",
   "execution_count": 25,
   "metadata": {},
   "outputs": [],
   "source": [
    "# setup rock\n",
    "poro = fill(0.2, nc)\n",
    "perm = zeros(3, nc)\n",
    "kx = vec(perm_all[114,:,:,:]) * Darcy ;\n",
    "perm[1, :] = perm[2, :] = kx\n",
    "perm[3, :] = 0.2 * kx\n",
    "\n",
    "# setup fluid\n",
    "so            = range(0, 1, 10)\n",
    "sg            = range(0, 1, 50)\n",
    "krog          = PhaseRelativePermeability(so, so.^2, label = :og)\n",
    "\n",
    "tab_krg_drain = brooks_corey_relperm.(sg, n = 2, residual = 0.1)\n",
    "tab_krg_imb   = brooks_corey_relperm.(sg, n = 3, residual = 0.25)\n",
    "\n",
    "krg_drain     = PhaseRelativePermeability(sg, tab_krg_drain, label = :g)\n",
    "krg_imb       = PhaseRelativePermeability(sg, tab_krg_imb, label = :g)\n",
    "\n",
    "krg = (krg_drain, krg_imb)\n",
    "H_g = KilloughHysteresis()\n",
    "relperm = ReservoirRelativePermeabilities(g = krg, og = krog, hysteresis_g = H_g) ;"
   ]
  },
  {
   "cell_type": "code",
   "execution_count": 26,
   "metadata": {},
   "outputs": [],
   "source": [
    "# setup reservoir\n",
    "domain = reservoir_domain(mesh, permeability = perm, porosity = poro, temperature = convert_to_si(30.0, :Celsius))\n",
    "\n",
    "# setup wells\n",
    "Inj1 = setup_well(domain, [(32, 32, nz-3), (32, 32, nz-2), (32, 32, nz-1), (32, 32, nz)], name = :Injector1, simple_well=true)\n",
    "Inj2 = setup_well(domain, [(32, 96, nz-3), (32, 96, nz-2), (32, 96, nz-1), (32, 96, nz)], name = :Injector2, simple_well=true)\n",
    "Inj3 = setup_well(domain, [(96, 96, nz-3), (96, 96, nz-2), (96, 96, nz-1), (96, 96, nz)], name = :Injector3, simple_well=true)\n",
    "Inj4 = setup_well(domain, [(96, 32, nz-3), (96, 32, nz-2), (96, 32, nz-1), (96, 32, nz)], name = :Injector4, simple_well=true)\n",
    "\n",
    "# setup model and update with relperms\n",
    "model  = setup_reservoir_model(domain, :co2brine, wells = [Inj1,Inj2,Inj3,Inj4], extra_out = false, co2_physics = :kvalue)\n",
    "replace_variables!(model, RelativePermeabilities = relperm)\n",
    "add_relperm_parameters!(model) ;"
   ]
  },
  {
   "cell_type": "code",
   "execution_count": 27,
   "metadata": {},
   "outputs": [],
   "source": [
    "# initial state\n",
    "p0 = zeros(nc)\n",
    "depth = domain[:cell_centroids][3,:]\n",
    "@. p0 = 250bar + depth * g * 1000.0\n",
    "\n",
    "state0 = setup_reservoir_state(model, Pressure = p0, OverallMoleFractions = [1.0, 0.0])\n",
    "parameters = setup_parameters(model) ;"
   ]
  },
  {
   "cell_type": "code",
   "execution_count": 28,
   "metadata": {},
   "outputs": [],
   "source": [
    "plot_reservoir(model)"
   ]
  },
  {
   "cell_type": "code",
   "execution_count": 29,
   "metadata": {},
   "outputs": [
    {
     "name": "stdout",
     "output_type": "stream",
     "text": [
      "Boundary condition added to 4096 cells.\n"
     ]
    }
   ],
   "source": [
    "# boundary conditions\n",
    "boundary = Int[]\n",
    "for cell in 1:nc\n",
    "    I, J, K = cell_ijk(mesh, cell)\n",
    "    if I == 1 || I == nx\n",
    "        push!(boundary, cell)\n",
    "    end\n",
    "end\n",
    "bc = flow_boundary_condition(boundary, domain, p0[boundary], fractional_flow = [1.0, 0.0])\n",
    "println(\"Boundary condition added to $(length(bc)) cells.\")"
   ]
  },
  {
   "cell_type": "code",
   "execution_count": 43,
   "metadata": {},
   "outputs": [
    {
     "name": "stdout",
     "output_type": "stream",
     "text": [
      "5 rampups + 60 report steps with injection, 25 report steps with migration.\n",
      "\u001b[92;1mJutul:\u001b[0m Simulating 505 years, 2.149 weeks as 90 report steps\n",
      "\u001b[34;1mStep  1/90:\u001b[0m Solving start to 1 hour, Δt = 1 hour \n",
      "\u001b[34;1mStep  2/90:\u001b[0m Solving 1 hour to 12 hours, Δt = 11 hours \n",
      "\u001b[34;1mStep  3/90:\u001b[0m Solving 12 hours to 1 day, 1 hour, Δt = 13 hours \n",
      "\u001b[34;1mStep  4/90:\u001b[0m Solving 1 day, 1 hour to 4 days, 1 hour, Δt = 3 days \n",
      "\u001b[34;1mStep  5/90:\u001b[0m Solving 4 days, 1 hour to 2 weeks, 1.042 day, Δt = 1 week, 4 days \n",
      "\u001b[33;1mConvergence:\u001b[0m Report step 5, mini-step #1 (23 hours, 10.98 minutes) failed to converge. Reducing mini-step.\n",
      "\u001b[33;1mConvergence:\u001b[0m Report step 5, mini-step #5 (3 days, 12.5 hours) failed to converge. Reducing mini-step.\n",
      "\u001b[33;1mConvergence:\u001b[0m Report step 5, mini-step #8 (4 days, 1.413 hour) failed to converge. Reducing mini-step.\n",
      "\u001b[33;1mConvergence:\u001b[0m Report step 5, mini-step #9 (2 days, 42.4 minutes) failed to converge. Reducing mini-step."
     ]
    }
   ],
   "source": [
    "# setup schedule\n",
    "ramps = [1hour, 11hour, 12hour, (4day-24hour), (15day-4day)] #[1hour, 12hour, 24hour, 4day, 15day]\n",
    "nTrup = length(ramps)\n",
    "\n",
    "Tinj   = 5year\n",
    "dTinj  = year/12\n",
    "nTinj  = Int(Tinj / dTinj)\n",
    "\n",
    "Tmon   = 500year\n",
    "dTmon  = 20year\n",
    "nTmon  = Int(Tmon / dTmon)\n",
    "\n",
    "dt_inj = repeat([dTinj], nTinj)\n",
    "dt_mon = repeat([dTmon], nTmon)\n",
    "dt     = vcat(ramps, dt_inj, dt_mon)\n",
    "\n",
    "inj_rate    = 0.5 * 1e9 / 686.5266 / year\n",
    "rate_target = TotalRateTarget(inj_rate)\n",
    "I_ctrl      = InjectorControl(rate_target, [0.0, 1.0], density = 686.5266)\n",
    "\n",
    "controls = Dict()\n",
    "controls[:Injector1] = I_ctrl\n",
    "controls[:Injector2] = I_ctrl\n",
    "controls[:Injector3] = I_ctrl\n",
    "controls[:Injector4] = I_ctrl\n",
    "\n",
    "forces_inj = setup_reservoir_forces(model, control = controls, bc = bc)\n",
    "forces_mon = setup_reservoir_forces(model, bc = bc)\n",
    "forces     = vcat(fill(forces_inj, nTrup), fill(forces_inj, nTinj), fill(forces_mon, nTmon))\n",
    "println(\"$nTrup rampups + $nTinj report steps with injection, $nTmon report steps with migration.\")\n",
    "\n",
    "# run simulation\n",
    "wd, states, t = simulate_reservoir(state0, model, dt, parameters = parameters, forces = forces,\n",
    "                                   info_level = 1, \n",
    "\n",
    "                                   presolve_wells = true,\n",
    "                                   linear_solver = :gmres, #:bicgstab\n",
    "                                   precond = :ilu0, #:cpr\n",
    "                                   max_nonlinear_iterations = 8,\n",
    "                                   relaxation = true,\n",
    "                                   tol_mb = 1e-4,\n",
    "                                   rtol = 1e-3,\n",
    "                                   max_timestep_cuts = 5)"
   ]
  },
  {
   "cell_type": "code",
   "execution_count": 134,
   "metadata": {},
   "outputs": [],
   "source": [
    "plot_reservoir(model, states)"
   ]
  },
  {
   "cell_type": "code",
   "execution_count": null,
   "metadata": {},
   "outputs": [],
   "source": [
    "inventory = co2_inventory(model, wd, states, t)\n",
    "JutulDarcy.plot_co2_inventory(t, inventory)"
   ]
  },
  {
   "cell_type": "markdown",
   "metadata": {},
   "source": [
    "***\n",
    "# Functional"
   ]
  },
  {
   "cell_type": "code",
   "execution_count": null,
   "metadata": {},
   "outputs": [],
   "source": []
  }
 ],
 "metadata": {
  "kernelspec": {
   "display_name": "Julia 1.10.5",
   "language": "julia",
   "name": "julia-1.10"
  },
  "language_info": {
   "file_extension": ".jl",
   "mimetype": "application/julia",
   "name": "julia",
   "version": "1.10.5"
  }
 },
 "nbformat": 4,
 "nbformat_minor": 2
}
