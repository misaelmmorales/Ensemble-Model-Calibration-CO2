{
 "cells": [
  {
   "cell_type": "markdown",
   "metadata": {},
   "source": [
    "# Ensemble model calibration using a spatiotemporal proxy for CO2 Monitoring\n",
    "### Misael M. Morales, The University of Texas at Austin\n",
    "Morales, M.M., Torres-Verdin, C., and Pyrcz, M. J. (2024). Ensemble model calibration and uncertainty quantification in geologic CO2 storage using a spatiotemporal deep learning proxy"
   ]
  },
  {
   "cell_type": "code",
   "execution_count": 1,
   "metadata": {},
   "outputs": [
    {
     "name": "stdout",
     "output_type": "stream",
     "text": [
      "--------------------------------------------------------------\n",
      "------------------------ VERSION INFO ------------------------\n",
      "TF version: 2.15.0 | Keras: 3.5.0 | # Device(s) available: 2\n",
      "TF Built with CUDA? True | CUDA: 12.2 | cuDNN: 8\n",
      "PhysicalDevice(name='/physical_device:GPU:0', device_type='GPU')\n",
      "--------------------------------------------------------------\n",
      "\n"
     ]
    }
   ],
   "source": [
    "import os\n",
    "os.environ['TF_CPP_MIN_LOG_LEVEL'] = '3'\n",
    "\n",
    "from time import time\n",
    "from tqdm import tqdm\n",
    "import numpy as np\n",
    "import pandas as pd\n",
    "import matplotlib.pyplot as plt\n",
    "from matplotlib.gridspec import GridSpec\n",
    "\n",
    "import scipy.io as sio\n",
    "import scipy.linalg as sla\n",
    "import scipy.optimize as sopt\n",
    "import scipy.spatial as sptl\n",
    "from pyesmda import ESMDA, ESMDA_RS, approximate_cov_mm\n",
    "\n",
    "import tensorflow as tf\n",
    "from utils import check_tf_gpu, describe_data, load_data\n",
    "from pyesmda import ESMDA, ESMDA_RS, approximate_cov_mm\n",
    "\n",
    "NREALIZATIONS = 1000\n",
    "NX, NY = 64, 64\n",
    "NTT, NT = 28, 20\n",
    "NTRAIN = 700\n",
    "NVALID = 150\n",
    "BATCHSIZE = 16\n",
    "HIDDEN = [16, 64, 256]\n",
    "\n",
    "sec2year   = 365.25 * 24 * 60 * 60\n",
    "Darcy      = 9.869233e-13\n",
    "psi2pascal = 6894.76\n",
    "co2_rho    = 686.5266\n",
    "milli      = 1e-3\n",
    "mega       = 1e6\n",
    "check_tf_gpu()"
   ]
  },
  {
   "cell_type": "code",
   "execution_count": 2,
   "metadata": {},
   "outputs": [
    {
     "name": "stdout",
     "output_type": "stream",
     "text": [
      "poro: (1000, 64, 64) | perm: (1000, 64, 64)\n",
      "pressure: (1000, 28, 64, 64) | saturation: (1000, 28, 64, 64)\n",
      "features: (1000, 64, 64, 2) | targets: (1000, 28, 64, 64, 2)\n"
     ]
    }
   ],
   "source": [
    "all_data = np.load('data/simulations_64x64x28.npz')\n",
    "poro = all_data['poro']\n",
    "perm = all_data['perm']\n",
    "pressure = all_data['pressure']\n",
    "saturation = all_data['saturation']\n",
    "print('poro: {} | perm: {}'.format(poro.shape, perm.shape))\n",
    "print('pressure: {} | saturation: {}'.format(pressure.shape, saturation.shape))\n",
    "\n",
    "pmin, pmax = poro.min(), poro.max()\n",
    "kmin, kmax = perm.min(), perm.max()\n",
    "rmin, rmax = pressure.min(), pressure.max()\n",
    "smin, smax = saturation.min(), saturation.max()\n",
    "\n",
    "poro_norm = (poro - pmin) / (pmax - pmin)\n",
    "perm_norm = (perm - kmin) / (kmax - kmin)\n",
    "pressure_norm = (pressure - rmin) / (rmax - rmin)\n",
    "saturation_norm = (saturation - smin) / (smax - smin)\n",
    "\n",
    "features = np.stack([poro_norm, perm_norm], -1)\n",
    "targets  = np.stack([pressure_norm, saturation_norm], -1)\n",
    "print('features: {} | targets: {}'.format(features.shape, targets.shape))"
   ]
  },
  {
   "cell_type": "code",
   "execution_count": 3,
   "metadata": {},
   "outputs": [
    {
     "name": "stdout",
     "output_type": "stream",
     "text": [
      "Train - X: (700, 64, 64, 2) | y1: (700, 8, 64, 64, 2) | y2: (700, 20, 64, 64, 2)\n",
      "Test  - X: (300, 64, 64, 2) | y1: (300, 8, 64, 64, 2) | y2: (300, 20, 64, 64, 2)\n"
     ]
    }
   ],
   "source": [
    "idx = np.random.choice(range(NREALIZATIONS), NREALIZATIONS, replace=False)\n",
    "train_idx, test_idx = idx[:NTRAIN], idx[NTRAIN:]\n",
    "\n",
    "X_train, X_test = features[train_idx], features[test_idx]\n",
    "y_train, y_test = targets[train_idx], targets[test_idx]\n",
    "\n",
    "y1_train, y2_train = y_train[:,:NTT-NT], y_train[:,NTT-NT:]\n",
    "y1_test, y2_test = y_test[:,:NTT-NT], y_test[:,NTT-NT:]\n",
    "\n",
    "print('Train - X: {} | y1: {} | y2: {}'.format(X_train.shape, y1_train.shape, y2_train.shape))\n",
    "print('Test  - X: {} | y1: {} | y2: {}'.format(X_test.shape, y1_test.shape, y2_test.shape))"
   ]
  },
  {
   "cell_type": "code",
   "execution_count": 4,
   "metadata": {},
   "outputs": [
    {
     "ename": "ValueError",
     "evalue": "Array has shape (None, 8, 256) but out-of-bounds index (Ellipsis, 8, slice(None, None, None)) was requested.",
     "output_type": "error",
     "traceback": [
      "\u001b[0;31m---------------------------------------------------------------------------\u001b[0m",
      "\u001b[0;31mValueError\u001b[0m                                Traceback (most recent call last)",
      "Cell \u001b[0;32mIn[4], line 1\u001b[0m\n\u001b[0;32m----> 1\u001b[0m model \u001b[38;5;241m=\u001b[39m \u001b[43mmake_model\u001b[49m\u001b[43m(\u001b[49m\u001b[43mhidden\u001b[49m\u001b[38;5;241;43m=\u001b[39;49m\u001b[43mHIDDEN\u001b[49m\u001b[43m,\u001b[49m\u001b[43m \u001b[49m\u001b[43mnt1\u001b[49m\u001b[38;5;241;43m=\u001b[39;49m\u001b[43mNTT\u001b[49m\u001b[43m,\u001b[49m\u001b[43m \u001b[49m\u001b[43mnt2\u001b[49m\u001b[38;5;241;43m=\u001b[39;49m\u001b[43mNT\u001b[49m\u001b[43m)\u001b[49m\n",
      "File \u001b[0;32m/mnt/e/Ensemble-Model-Calibration-CO2/pix2vid2.py:121\u001b[0m, in \u001b[0;36mmake_model\u001b[0;34m(hidden, nt1, nt2, verbose)\u001b[0m\n\u001b[1;32m    119\u001b[0m         t1 \u001b[38;5;241m=\u001b[39m conditional_recurrent_decoder(x3, zc[\u001b[38;5;241m.\u001b[39m\u001b[38;5;241m.\u001b[39m\u001b[38;5;241m.\u001b[39m,t,:], [x2, x1], rnn_filters\u001b[38;5;241m=\u001b[39mhidden)\n\u001b[1;32m    120\u001b[0m     \u001b[38;5;28;01melse\u001b[39;00m:\n\u001b[0;32m--> 121\u001b[0m         t1 \u001b[38;5;241m=\u001b[39m conditional_recurrent_decoder(x3, \u001b[43mzc\u001b[49m\u001b[43m[\u001b[49m\u001b[38;5;241;43m.\u001b[39;49m\u001b[38;5;241;43m.\u001b[39;49m\u001b[38;5;241;43m.\u001b[39;49m\u001b[43m,\u001b[49m\u001b[43mt\u001b[49m\u001b[43m,\u001b[49m\u001b[43m:\u001b[49m\u001b[43m]\u001b[49m, [x2, x1], rnn_filters\u001b[38;5;241m=\u001b[39mhidden, previous_timestep\u001b[38;5;241m=\u001b[39mt1) \n\u001b[1;32m    122\u001b[0m t1 \u001b[38;5;241m=\u001b[39m layers\u001b[38;5;241m.\u001b[39mTimeDistributed(layers\u001b[38;5;241m.\u001b[39mSeparableConv2D(Y1_CHANNELS, \u001b[38;5;241m3\u001b[39m, activation\u001b[38;5;241m=\u001b[39m\u001b[38;5;124m'\u001b[39m\u001b[38;5;124mrelu\u001b[39m\u001b[38;5;124m'\u001b[39m, padding\u001b[38;5;241m=\u001b[39m\u001b[38;5;124m'\u001b[39m\u001b[38;5;124msame\u001b[39m\u001b[38;5;124m'\u001b[39m))(t1)\n\u001b[1;32m    123\u001b[0m model1 \u001b[38;5;241m=\u001b[39m Model(inputs\u001b[38;5;241m=\u001b[39m[x_inp, c_inp], outputs\u001b[38;5;241m=\u001b[39mt1)\n",
      "File \u001b[0;32m~/miniconda3/envs/flow/lib/python3.9/site-packages/keras/src/backend/common/keras_tensor.py:337\u001b[0m, in \u001b[0;36mKerasTensor.__getitem__\u001b[0;34m(self, key)\u001b[0m\n\u001b[1;32m    334\u001b[0m \u001b[38;5;28;01mdef\u001b[39;00m \u001b[38;5;21m__getitem__\u001b[39m(\u001b[38;5;28mself\u001b[39m, key):\n\u001b[1;32m    335\u001b[0m     \u001b[38;5;28;01mfrom\u001b[39;00m \u001b[38;5;21;01mkeras\u001b[39;00m\u001b[38;5;21;01m.\u001b[39;00m\u001b[38;5;21;01msrc\u001b[39;00m \u001b[38;5;28;01mimport\u001b[39;00m ops\n\u001b[0;32m--> 337\u001b[0m     \u001b[38;5;28;01mreturn\u001b[39;00m \u001b[43mops\u001b[49m\u001b[38;5;241;43m.\u001b[39;49m\u001b[43mGetItem\u001b[49m\u001b[43m(\u001b[49m\u001b[43m)\u001b[49m\u001b[38;5;241;43m.\u001b[39;49m\u001b[43msymbolic_call\u001b[49m\u001b[43m(\u001b[49m\u001b[38;5;28;43mself\u001b[39;49m\u001b[43m,\u001b[49m\u001b[43m \u001b[49m\u001b[43mkey\u001b[49m\u001b[43m)\u001b[49m\n",
      "File \u001b[0;32m~/miniconda3/envs/flow/lib/python3.9/site-packages/keras/src/ops/operation.py:58\u001b[0m, in \u001b[0;36mOperation.symbolic_call\u001b[0;34m(self, *args, **kwargs)\u001b[0m\n\u001b[1;32m     56\u001b[0m \u001b[38;5;28;01mdef\u001b[39;00m \u001b[38;5;21msymbolic_call\u001b[39m(\u001b[38;5;28mself\u001b[39m, \u001b[38;5;241m*\u001b[39margs, \u001b[38;5;241m*\u001b[39m\u001b[38;5;241m*\u001b[39mkwargs):\n\u001b[1;32m     57\u001b[0m     \u001b[38;5;66;03m# Perform shape/dtype inference.\u001b[39;00m\n\u001b[0;32m---> 58\u001b[0m     outputs \u001b[38;5;241m=\u001b[39m \u001b[38;5;28;43mself\u001b[39;49m\u001b[38;5;241;43m.\u001b[39;49m\u001b[43mcompute_output_spec\u001b[49m\u001b[43m(\u001b[49m\u001b[38;5;241;43m*\u001b[39;49m\u001b[43margs\u001b[49m\u001b[43m,\u001b[49m\u001b[43m \u001b[49m\u001b[38;5;241;43m*\u001b[39;49m\u001b[38;5;241;43m*\u001b[39;49m\u001b[43mkwargs\u001b[49m\u001b[43m)\u001b[49m\n\u001b[1;32m     59\u001b[0m     \u001b[38;5;66;03m# Record a new node in the operations graph.\u001b[39;00m\n\u001b[1;32m     60\u001b[0m     \u001b[38;5;66;03m# The Node wires itself to inbound and outbound ops.  The\u001b[39;00m\n\u001b[1;32m     61\u001b[0m     \u001b[38;5;66;03m# Node constructor updates this op's self._inbound_nodes,\u001b[39;00m\n\u001b[1;32m     62\u001b[0m     \u001b[38;5;66;03m# sets _keras_history on the outputs, and adds itself to the\u001b[39;00m\n\u001b[1;32m     63\u001b[0m     \u001b[38;5;66;03m# `_outbound_nodes` of the ops that produced the inputs to this\u001b[39;00m\n\u001b[1;32m     64\u001b[0m     \u001b[38;5;66;03m# call.\u001b[39;00m\n\u001b[1;32m     65\u001b[0m     Node(\n\u001b[1;32m     66\u001b[0m         operation\u001b[38;5;241m=\u001b[39m\u001b[38;5;28mself\u001b[39m, call_args\u001b[38;5;241m=\u001b[39margs, call_kwargs\u001b[38;5;241m=\u001b[39mkwargs, outputs\u001b[38;5;241m=\u001b[39moutputs\n\u001b[1;32m     67\u001b[0m     )\n",
      "File \u001b[0;32m~/miniconda3/envs/flow/lib/python3.9/site-packages/keras/src/ops/numpy.py:2623\u001b[0m, in \u001b[0;36mGetItem.compute_output_spec\u001b[0;34m(self, x, key)\u001b[0m\n\u001b[1;32m   2621\u001b[0m         index \u001b[38;5;241m=\u001b[39m subkey \u001b[38;5;28;01mif\u001b[39;00m subkey \u001b[38;5;241m>\u001b[39m\u001b[38;5;241m=\u001b[39m \u001b[38;5;241m0\u001b[39m \u001b[38;5;28;01melse\u001b[39;00m subkey \u001b[38;5;241m+\u001b[39m length\n\u001b[1;32m   2622\u001b[0m         \u001b[38;5;28;01mif\u001b[39;00m index \u001b[38;5;241m<\u001b[39m \u001b[38;5;241m0\u001b[39m \u001b[38;5;129;01mor\u001b[39;00m index \u001b[38;5;241m>\u001b[39m\u001b[38;5;241m=\u001b[39m length:\n\u001b[0;32m-> 2623\u001b[0m             \u001b[38;5;28;01mraise\u001b[39;00m \u001b[38;5;167;01mValueError\u001b[39;00m(\n\u001b[1;32m   2624\u001b[0m                 \u001b[38;5;124mf\u001b[39m\u001b[38;5;124m\"\u001b[39m\u001b[38;5;124mArray has shape \u001b[39m\u001b[38;5;132;01m{\u001b[39;00mx\u001b[38;5;241m.\u001b[39mshape\u001b[38;5;132;01m}\u001b[39;00m\u001b[38;5;124m but out-of-bounds \u001b[39m\u001b[38;5;124m\"\u001b[39m\n\u001b[1;32m   2625\u001b[0m                 \u001b[38;5;124mf\u001b[39m\u001b[38;5;124m\"\u001b[39m\u001b[38;5;124mindex \u001b[39m\u001b[38;5;132;01m{\u001b[39;00mkey\u001b[38;5;132;01m}\u001b[39;00m\u001b[38;5;124m was requested.\u001b[39m\u001b[38;5;124m\"\u001b[39m\n\u001b[1;32m   2626\u001b[0m             )\n\u001b[1;32m   2627\u001b[0m \u001b[38;5;28;01melif\u001b[39;00m \u001b[38;5;28misinstance\u001b[39m(subkey, \u001b[38;5;28mslice\u001b[39m):\n\u001b[1;32m   2628\u001b[0m     \u001b[38;5;28;01mif\u001b[39;00m length \u001b[38;5;129;01mis\u001b[39;00m \u001b[38;5;129;01mnot\u001b[39;00m \u001b[38;5;28;01mNone\u001b[39;00m:\n\u001b[1;32m   2629\u001b[0m         \u001b[38;5;66;03m# python3 friendly way to compute a slice length.\u001b[39;00m\n",
      "\u001b[0;31mValueError\u001b[0m: Array has shape (None, 8, 256) but out-of-bounds index (Ellipsis, 8, slice(None, None, None)) was requested."
     ]
    }
   ],
   "source": []
  },
  {
   "cell_type": "markdown",
   "metadata": {},
   "source": [
    "***\n",
    "# END"
   ]
  }
 ],
 "metadata": {
  "kernelspec": {
   "display_name": "rapid",
   "language": "python",
   "name": "python3"
  },
  "language_info": {
   "codemirror_mode": {
    "name": "ipython",
    "version": 3
   },
   "file_extension": ".py",
   "mimetype": "text/x-python",
   "name": "python",
   "nbconvert_exporter": "python",
   "pygments_lexer": "ipython3",
   "version": "3.9.19"
  }
 },
 "nbformat": 4,
 "nbformat_minor": 2
}
